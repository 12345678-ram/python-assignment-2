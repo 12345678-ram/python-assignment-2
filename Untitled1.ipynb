{
  "nbformat": 4,
  "nbformat_minor": 0,
  "metadata": {
    "colab": {
      "name": "Untitled1.ipynb",
      "provenance": [],
      "collapsed_sections": [],
      "authorship_tag": "ABX9TyPM7LWxiQaWF86OeHiOIdSx",
      "include_colab_link": true
    },
    "kernelspec": {
      "name": "python3",
      "display_name": "Python 3"
    }
  },
  "cells": [
    {
      "cell_type": "markdown",
      "metadata": {
        "id": "view-in-github",
        "colab_type": "text"
      },
      "source": [
        "<a href=\"https://colab.research.google.com/github/12345678-ram/python-assignment-2/blob/master/Untitled1.ipynb\" target=\"_parent\"><img src=\"https://colab.research.google.com/assets/colab-badge.svg\" alt=\"Open In Colab\"/></a>"
      ]
    },
    {
      "cell_type": "code",
      "metadata": {
        "id": "Yt8ttiKHEfrP",
        "colab_type": "code",
        "colab": {
          "base_uri": "https://localhost:8080/",
          "height": 51
        },
        "outputId": "24ee28a8-5eee-4c6c-dd01-1cfd0f7a67f6"
      },
      "source": [
        "   #question 1\n",
        "   year=int(input(\"Enter the year\"))\n",
        "   if year%12==0:\n",
        "      print(\"monkey\")\n",
        "   elif year%12==1:\n",
        "      print(\"rooster\")\n",
        "   elif year%12==2:\n",
        "      print(\"dog\")\n",
        "   elif year%12==3:\n",
        "      print(\"pig\")\n",
        "   elif year%12==4:\n",
        "      print(\"rat\")\n",
        "   elif year%12==5:\n",
        "      print(\"ox\")\n",
        "   elif year%12==6:\n",
        "      print(\"rabbit\")\n",
        "   elif year%12==7:\n",
        "      print(\"tiger\")\n",
        "   elif year%12==8:\n",
        "      print(\"dragon\")\n",
        "   elif year%12==9:\n",
        "      print(\"snake\")\n",
        "   elif year%12==10:\n",
        "      print(\"horse\")\n",
        "   else:\n",
        "      print(\"sheep\")"
      ],
      "execution_count": null,
      "outputs": [
        {
          "output_type": "stream",
          "text": [
            "Enter the year2012\n",
            "dragon\n"
          ],
          "name": "stdout"
        }
      ]
    },
    {
      "cell_type": "code",
      "metadata": {
        "id": "Kufk1e1ZIUnB",
        "colab_type": "code",
        "colab": {
          "base_uri": "https://localhost:8080/",
          "height": 69
        },
        "outputId": "672694b9-4056-4c1d-fa96-1f02a2b81966"
      },
      "source": [
        "#question 2\n",
        "d=int(input(\"Distance to be travelled :\"))\n",
        "w=int(input(\"weight of the goods :\")) \n",
        "if d>=500:\n",
        "    if w>=100:\n",
        "       Amount = 5*distance\n",
        "       print(\"Amount to be charged :\",Amount) \n",
        "    elif w>=10 and w<100:\n",
        "       Amount =6*d\n",
        "       print(\"Amount to be charged :\",Amount) \n",
        "    elif d<500 :\n",
        "        if w>=100 :\n",
        "           Amount =8*d\n",
        "           print(\"Amount to be charged :\",Amount) \n",
        "    elif w<100 :\n",
        "         Amount =5*d\n",
        "         print(\"Amount to be charged :\",Amount) \n",
        "    else:\n",
        "       print(\"invalid\")"
      ],
      "execution_count": null,
      "outputs": [
        {
          "output_type": "stream",
          "text": [
            "Distance to be travelled :520\n",
            "weight of the goods :50\n",
            "Amount to be charged : 3120\n"
          ],
          "name": "stdout"
        }
      ]
    },
    {
      "cell_type": "code",
      "metadata": {
        "id": "V3AVDFFdPA-s",
        "colab_type": "code",
        "colab": {
          "base_uri": "https://localhost:8080/",
          "height": 69
        },
        "outputId": "647f1de7-bc53-46c1-ec27-b871e354d1c1"
      },
      "source": [
        "#question 3\n",
        "T=input(\"Type of seat:\")\n",
        "p=input(\"payment mode:\")\n",
        "if T==\"stall\":\n",
        "   cot=625\n",
        "elif T==\"circle\":\n",
        "   cot=750\n",
        "elif T==\"upper class\":\n",
        "   cot=850\n",
        "elif T ==\"Box\":\n",
        "   cot=1000\n",
        "else:\n",
        "   print(\"invalid\")\n",
        "if p=='cash':\n",
        "   cot=(cot-(cot*10)//100)\n",
        "else:\n",
        "   cot=(cot-(cot*5)//100)\n",
        "print(\"cost of ticket :\",cot)"
      ],
      "execution_count": null,
      "outputs": [
        {
          "output_type": "stream",
          "text": [
            "Type of seat:circle\n",
            "payment mode:cash\n",
            "cost of ticket : 675\n"
          ],
          "name": "stdout"
        }
      ]
    },
    {
      "cell_type": "code",
      "metadata": {
        "id": "5cDYh_bC8dnZ",
        "colab_type": "code",
        "colab": {
          "base_uri": "https://localhost:8080/",
          "height": 106
        },
        "outputId": "eeea92a1-510d-4e6e-e9b0-75d10d4b9882"
      },
      "source": [
        "#question 4\n",
        "M=float(input(\"Enter the amount of water in kilograms :\"))\n",
        "initialTemperature=float(input(\"Enter initialTemperature of water in degree Celsius:\"))\n",
        "finalTemperature=float(input(\"Enter finalTemperature of water in degree Celsius:\"))\n",
        "Q=M*(finalTemperature-initialTemperature)*4184\n",
        "print(f'Energy required to heat the water = {Q}joules')"
      ],
      "execution_count": null,
      "outputs": [
        {
          "output_type": "stream",
          "text": [
            "Enter the amount of water in kilograms :20\n",
            "Enter initialTemperature of water in degree Celsius:6\n",
            "Enter finalTemperature of water in degree Celsius:8\n",
            "Energy required to heat the water = 167360.0joules\n"
          ],
          "name": "stdout"
        }
      ]
    },
    {
      "cell_type": "code",
      "metadata": {
        "id": "PGwA27bxrvzU",
        "colab_type": "code",
        "colab": {
          "base_uri": "https://localhost:8080/",
          "height": 51
        },
        "outputId": "597136c2-1ffd-4ff4-8e4f-1918a72c3460"
      },
      "source": [
        "#question 5\n",
        "month=input(\"Enter month:\")\n",
        "if month==\"December\" or month==\"January\" or month==\"february\":\n",
        "   print(\"Winter\")\n",
        "elif month==\"March\" or month==\"april\" or month==\"may\":\n",
        "   print(\"Spring\")\n",
        "elif month==\"june\" or month==\"july\" or month==\"august\":\n",
        "   print(\"Summer\")\n",
        "else:\n",
        "   print(\"Autumn\")"
      ],
      "execution_count": null,
      "outputs": [
        {
          "output_type": "stream",
          "text": [
            "Enter month:January\n",
            "Winter\n"
          ],
          "name": "stdout"
        }
      ]
    },
    {
      "cell_type": "code",
      "metadata": {
        "id": "x9vsZjUuPA95",
        "colab_type": "code",
        "colab": {
          "base_uri": "https://localhost:8080/",
          "height": 86
        },
        "outputId": "e5e88986-7fe5-4cd9-ceb5-7fa7d9746196"
      },
      "source": [
        "#question 6\n",
        "w=float(input(\"Enter the weight in pounds:\"))\n",
        "m=0.45359237*w\n",
        "h=float(input(\"Enter the height in inches:\"))\n",
        "i=0.0254*h\n",
        "BMI=(m/(i**2))\n",
        "print (BMI)\n",
        "if(BMI<18.5):\n",
        "  print(\"Underweight\")\n",
        "elif(BMI>18.5 and BMI<25.0):\n",
        "  print(\"Normal\")\n",
        "elif(BMI>25.0 and BMI<30.0):\n",
        "  print(\"Overweight\")\n",
        "else:\n",
        "  print(\"Obese\")"
      ],
      "execution_count": null,
      "outputs": [
        {
          "output_type": "stream",
          "text": [
            "Enter the weight in pounds:15\n",
            "Enter the height in inches:15\n",
            "46.87130530927728\n",
            "Obese\n"
          ],
          "name": "stdout"
        }
      ]
    },
    {
      "cell_type": "code",
      "metadata": {
        "id": "O7e96TbqUJBo",
        "colab_type": "code",
        "colab": {
          "base_uri": "https://localhost:8080/",
          "height": 71
        },
        "outputId": "234a61c7-be60-4c52-9f09-bb384ea2f870"
      },
      "source": [
        "#question 7\n",
        "n=int(input(\"Enter an integer between 100 and 1000:\"))\n",
        "sum=0\n",
        "while(n>0):\n",
        "  r=n%10\n",
        "  n=n//10\n",
        "  sum=sum+r\n",
        "print(sum)"
      ],
      "execution_count": null,
      "outputs": [
        {
          "output_type": "stream",
          "text": [
            "Enter an integer between 100 and 1000:122\n",
            "5\n"
          ],
          "name": "stdout"
        }
      ]
    },
    {
      "cell_type": "code",
      "metadata": {
        "id": "oO0YjCGhcUL_",
        "colab_type": "code",
        "colab": {
          "base_uri": "https://localhost:8080/",
          "height": 54
        },
        "outputId": "14426306-8975-411a-bab8-b34127028625"
      },
      "source": [
        "#question 8\n",
        "for n in range (1,1000):\n",
        "    temp=n\n",
        "    sum=0\n",
        "    while n>0:\n",
        "          R=n%10\n",
        "          sum=sum*10+R\n",
        "          n=n//10\n",
        "    if sum==temp:\n",
        "       print(sum,end=\" \")"
      ],
      "execution_count": null,
      "outputs": [
        {
          "output_type": "stream",
          "text": [
            "1 2 3 4 5 6 7 8 9 11 22 33 44 55 66 77 88 99 101 111 121 131 141 151 161 171 181 191 202 212 222 232 242 252 262 272 282 292 303 313 323 333 343 353 363 373 383 393 404 414 424 434 444 454 464 474 484 494 505 515 525 535 545 555 565 575 585 595 606 616 626 636 646 656 666 676 686 696 707 717 727 737 747 757 767 777 787 797 808 818 828 838 848 858 868 878 888 898 909 919 929 939 949 959 969 979 989 999 "
          ],
          "name": "stdout"
        }
      ]
    },
    {
      "cell_type": "code",
      "metadata": {
        "id": "h2P1wUFWYEm_",
        "colab_type": "code",
        "colab": {
          "base_uri": "https://localhost:8080/",
          "height": 34
        },
        "outputId": "54db2a85-3adb-48ff-ff80-3a96306b2cae"
      },
      "source": [
        "#question 9\n",
        "for n in range (1,1000):\n",
        "  sum=0\n",
        "  temp=n\n",
        "  while n>0:\n",
        "    R=n%10\n",
        "    n=n//10\n",
        "    sum+=R*R*R\n",
        "  if sum==temp:\n",
        "    print(temp,end=\" \")"
      ],
      "execution_count": null,
      "outputs": [
        {
          "output_type": "stream",
          "text": [
            "1 153 370 371 407 "
          ],
          "name": "stdout"
        }
      ]
    },
    {
      "cell_type": "code",
      "metadata": {
        "id": "Tgq7JWc11MFq",
        "colab_type": "code",
        "colab": {
          "base_uri": "https://localhost:8080/",
          "height": 1000
        },
        "outputId": "c9789e7b-782f-4f00-9bc1-284d84593001"
      },
      "source": [
        "#question 10\n",
        "num=100\n",
        "for i in range(1,100):\n",
        "    if i%3==0:\n",
        "       print(\"Fizz\")\n",
        "    elif i%5==0:\n",
        "       print(\"Buzz\")\n",
        "    elif i%3==0 and i%5==0:\n",
        "       print(\"fizz buzz\")\n",
        "    else:\n",
        "       print(\"\")"
      ],
      "execution_count": null,
      "outputs": [
        {
          "output_type": "stream",
          "text": [
            "\n",
            "\n",
            "Fizz\n",
            "\n",
            "Buzz\n",
            "Fizz\n",
            "\n",
            "\n",
            "Fizz\n",
            "Buzz\n",
            "\n",
            "Fizz\n",
            "\n",
            "\n",
            "Fizz\n",
            "\n",
            "\n",
            "Fizz\n",
            "\n",
            "Buzz\n",
            "Fizz\n",
            "\n",
            "\n",
            "Fizz\n",
            "Buzz\n",
            "\n",
            "Fizz\n",
            "\n",
            "\n",
            "Fizz\n",
            "\n",
            "\n",
            "Fizz\n",
            "\n",
            "Buzz\n",
            "Fizz\n",
            "\n",
            "\n",
            "Fizz\n",
            "Buzz\n",
            "\n",
            "Fizz\n",
            "\n",
            "\n",
            "Fizz\n",
            "\n",
            "\n",
            "Fizz\n",
            "\n",
            "Buzz\n",
            "Fizz\n",
            "\n",
            "\n",
            "Fizz\n",
            "Buzz\n",
            "\n",
            "Fizz\n",
            "\n",
            "\n",
            "Fizz\n",
            "\n",
            "\n",
            "Fizz\n",
            "\n",
            "Buzz\n",
            "Fizz\n",
            "\n",
            "\n",
            "Fizz\n",
            "Buzz\n",
            "\n",
            "Fizz\n",
            "\n",
            "\n",
            "Fizz\n",
            "\n",
            "\n",
            "Fizz\n",
            "\n",
            "Buzz\n",
            "Fizz\n",
            "\n",
            "\n",
            "Fizz\n",
            "Buzz\n",
            "\n",
            "Fizz\n",
            "\n",
            "\n",
            "Fizz\n",
            "\n",
            "\n",
            "Fizz\n",
            "\n",
            "Buzz\n",
            "Fizz\n",
            "\n",
            "\n",
            "Fizz\n"
          ],
          "name": "stdout"
        }
      ]
    },
    {
      "cell_type": "code",
      "metadata": {
        "id": "7LBeQ1LAgkXn",
        "colab_type": "code",
        "colab": {
          "base_uri": "https://localhost:8080/",
          "height": 106
        },
        "outputId": "bfd2225b-5357-44d9-bd62-aa4603095514"
      },
      "source": [
        "#question 11\n",
        "H=int(input(\"Enter height of the well:\"))\n",
        "U=int(input(\"Enter the meters which is climbed:\"))\n",
        "D=int(input(\"Slips down:\"))\n",
        "step=((H-U)+(U-D))//(U-D)\n",
        "print(step+1)"
      ],
      "execution_count": null,
      "outputs": [
        {
          "output_type": "stream",
          "text": [
            "Enter height of the well:100\n",
            "Enter the meters which is climbed:20\n",
            "Slips down:1\n",
            "6\n"
          ],
          "name": "stdout"
        }
      ]
    }
  ]
}